{
 "cells": [
  {
   "cell_type": "code",
   "execution_count": 81,
   "metadata": {},
   "outputs": [],
   "source": [
    "import pandas as pd\n",
    "import numpy as np\n",
    "import torch\n",
    "import torch.nn as nn\n",
    "import torch.optim as optim\n",
    "import torchvision\n",
    "from torch.utils.data import DataLoader,TensorDataset\n",
    "import matplotlib.pyplot as plt\n",
    "from statsmodels.tsa.seasonal import seasonal_decompose\n",
    "from sklearn.metrics import mean_squared_error, mean_absolute_error\n",
    "from sklearn.preprocessing import MinMaxScaler, StandardScaler\n",
    "import warnings\n",
    "warnings.filterwarnings('ignore')"
   ]
  },
  {
   "cell_type": "code",
   "execution_count": 82,
   "metadata": {},
   "outputs": [
    {
     "data": {
      "text/plain": [
       "Index(['Date', 'Title', 'URL', 'sentiment', 'confidence', 'Text', 'pct',\n",
       "       'pred', 'weight'],\n",
       "      dtype='object')"
      ]
     },
     "execution_count": 82,
     "metadata": {},
     "output_type": "execute_result"
    }
   ],
   "source": [
    "df2=pd.read_csv('df2.csv')\n",
    "df2.columns"
   ]
  },
  {
   "cell_type": "code",
   "execution_count": 83,
   "metadata": {},
   "outputs": [
    {
     "data": {
      "text/plain": [
       "765"
      ]
     },
     "execution_count": 83,
     "metadata": {},
     "output_type": "execute_result"
    }
   ],
   "source": [
    "sms=[]\n",
    "for date, group in df2.groupby('Date'):\n",
    "  cons = list(group['confidence'])\n",
    "  wes = list(group['weight'])\n",
    "  s = 0\n",
    "  for i in range(len(cons)):\n",
    "    s += cons[i]*wes[i]\n",
    "  sms.append(s)\n",
    "\n",
    "len(sms) "
   ]
  },
  {
   "cell_type": "code",
   "execution_count": 84,
   "metadata": {},
   "outputs": [
    {
     "data": {
      "text/html": [
       "<div>\n",
       "<style scoped>\n",
       "    .dataframe tbody tr th:only-of-type {\n",
       "        vertical-align: middle;\n",
       "    }\n",
       "\n",
       "    .dataframe tbody tr th {\n",
       "        vertical-align: top;\n",
       "    }\n",
       "\n",
       "    .dataframe thead th {\n",
       "        text-align: right;\n",
       "    }\n",
       "</style>\n",
       "<table border=\"1\" class=\"dataframe\">\n",
       "  <thead>\n",
       "    <tr style=\"text-align: right;\">\n",
       "      <th></th>\n",
       "      <th>Date</th>\n",
       "      <th>Gold</th>\n",
       "      <th>Coal</th>\n",
       "      <th>Closing_price</th>\n",
       "      <th>Crude_Oil</th>\n",
       "    </tr>\n",
       "  </thead>\n",
       "  <tbody>\n",
       "    <tr>\n",
       "      <th>0</th>\n",
       "      <td>2017-01-03</td>\n",
       "      <td>79035.1</td>\n",
       "      <td>305.30</td>\n",
       "      <td>498.037018</td>\n",
       "      <td>52.330002</td>\n",
       "    </tr>\n",
       "    <tr>\n",
       "      <th>1</th>\n",
       "      <td>2017-01-04</td>\n",
       "      <td>79721.3</td>\n",
       "      <td>306.15</td>\n",
       "      <td>487.865082</td>\n",
       "      <td>53.259998</td>\n",
       "    </tr>\n",
       "    <tr>\n",
       "      <th>2</th>\n",
       "      <td>2017-01-06</td>\n",
       "      <td>80321.3</td>\n",
       "      <td>306.20</td>\n",
       "      <td>491.430969</td>\n",
       "      <td>53.990002</td>\n",
       "    </tr>\n",
       "    <tr>\n",
       "      <th>3</th>\n",
       "      <td>2017-01-07</td>\n",
       "      <td>80321.3</td>\n",
       "      <td>306.20</td>\n",
       "      <td>492.688171</td>\n",
       "      <td>51.959999</td>\n",
       "    </tr>\n",
       "    <tr>\n",
       "      <th>4</th>\n",
       "      <td>2017-01-08</td>\n",
       "      <td>80321.3</td>\n",
       "      <td>306.20</td>\n",
       "      <td>492.688171</td>\n",
       "      <td>51.959999</td>\n",
       "    </tr>\n",
       "    <tr>\n",
       "      <th>...</th>\n",
       "      <td>...</td>\n",
       "      <td>...</td>\n",
       "      <td>...</td>\n",
       "      <td>...</td>\n",
       "      <td>...</td>\n",
       "    </tr>\n",
       "    <tr>\n",
       "      <th>760</th>\n",
       "      <td>2021-09-02</td>\n",
       "      <td>133121.0</td>\n",
       "      <td>134.50</td>\n",
       "      <td>2117.730469</td>\n",
       "      <td>69.989998</td>\n",
       "    </tr>\n",
       "    <tr>\n",
       "      <th>761</th>\n",
       "      <td>2021-09-03</td>\n",
       "      <td>133146.8</td>\n",
       "      <td>141.05</td>\n",
       "      <td>2204.584717</td>\n",
       "      <td>69.290001</td>\n",
       "    </tr>\n",
       "    <tr>\n",
       "      <th>762</th>\n",
       "      <td>2021-10-01</td>\n",
       "      <td>130776.3</td>\n",
       "      <td>147.60</td>\n",
       "      <td>2329.374268</td>\n",
       "      <td>75.879997</td>\n",
       "    </tr>\n",
       "    <tr>\n",
       "      <th>763</th>\n",
       "      <td>2021-10-02</td>\n",
       "      <td>130776.3</td>\n",
       "      <td>149.10</td>\n",
       "      <td>2359.325684</td>\n",
       "      <td>77.620003</td>\n",
       "    </tr>\n",
       "    <tr>\n",
       "      <th>764</th>\n",
       "      <td>2021-10-03</td>\n",
       "      <td>130776.3</td>\n",
       "      <td>153.10</td>\n",
       "      <td>2359.325684</td>\n",
       "      <td>77.620003</td>\n",
       "    </tr>\n",
       "  </tbody>\n",
       "</table>\n",
       "<p>765 rows × 5 columns</p>\n",
       "</div>"
      ],
      "text/plain": [
       "           Date      Gold    Coal  Closing_price  Crude_Oil\n",
       "0    2017-01-03   79035.1  305.30     498.037018  52.330002\n",
       "1    2017-01-04   79721.3  306.15     487.865082  53.259998\n",
       "2    2017-01-06   80321.3  306.20     491.430969  53.990002\n",
       "3    2017-01-07   80321.3  306.20     492.688171  51.959999\n",
       "4    2017-01-08   80321.3  306.20     492.688171  51.959999\n",
       "..          ...       ...     ...            ...        ...\n",
       "760  2021-09-02  133121.0  134.50    2117.730469  69.989998\n",
       "761  2021-09-03  133146.8  141.05    2204.584717  69.290001\n",
       "762  2021-10-01  130776.3  147.60    2329.374268  75.879997\n",
       "763  2021-10-02  130776.3  149.10    2359.325684  77.620003\n",
       "764  2021-10-03  130776.3  153.10    2359.325684  77.620003\n",
       "\n",
       "[765 rows x 5 columns]"
      ]
     },
     "execution_count": 84,
     "metadata": {},
     "output_type": "execute_result"
    }
   ],
   "source": [
    "df=pd.read_csv('Stock.csv')\n",
    "df"
   ]
  },
  {
   "cell_type": "code",
   "execution_count": 85,
   "metadata": {},
   "outputs": [
    {
     "data": {
      "text/html": [
       "<div>\n",
       "<style scoped>\n",
       "    .dataframe tbody tr th:only-of-type {\n",
       "        vertical-align: middle;\n",
       "    }\n",
       "\n",
       "    .dataframe tbody tr th {\n",
       "        vertical-align: top;\n",
       "    }\n",
       "\n",
       "    .dataframe thead th {\n",
       "        text-align: right;\n",
       "    }\n",
       "</style>\n",
       "<table border=\"1\" class=\"dataframe\">\n",
       "  <thead>\n",
       "    <tr style=\"text-align: right;\">\n",
       "      <th></th>\n",
       "      <th>Date</th>\n",
       "      <th>Gold</th>\n",
       "      <th>Coal</th>\n",
       "      <th>Closing_price</th>\n",
       "      <th>Crude_Oil</th>\n",
       "    </tr>\n",
       "  </thead>\n",
       "  <tbody>\n",
       "    <tr>\n",
       "      <th>0</th>\n",
       "      <td>2017-01-03</td>\n",
       "      <td>-1.086089</td>\n",
       "      <td>1.359663</td>\n",
       "      <td>0.017401</td>\n",
       "      <td>-0.003241</td>\n",
       "    </tr>\n",
       "    <tr>\n",
       "      <th>1</th>\n",
       "      <td>2017-01-04</td>\n",
       "      <td>-1.054820</td>\n",
       "      <td>1.373258</td>\n",
       "      <td>0.012031</td>\n",
       "      <td>0.074474</td>\n",
       "    </tr>\n",
       "    <tr>\n",
       "      <th>2</th>\n",
       "      <td>2017-01-06</td>\n",
       "      <td>-1.027479</td>\n",
       "      <td>1.374057</td>\n",
       "      <td>0.013913</td>\n",
       "      <td>0.135477</td>\n",
       "    </tr>\n",
       "    <tr>\n",
       "      <th>3</th>\n",
       "      <td>2017-01-07</td>\n",
       "      <td>-1.027479</td>\n",
       "      <td>1.374057</td>\n",
       "      <td>0.014577</td>\n",
       "      <td>-0.034160</td>\n",
       "    </tr>\n",
       "    <tr>\n",
       "      <th>4</th>\n",
       "      <td>2017-01-08</td>\n",
       "      <td>-1.027479</td>\n",
       "      <td>1.374057</td>\n",
       "      <td>0.014577</td>\n",
       "      <td>-0.034160</td>\n",
       "    </tr>\n",
       "    <tr>\n",
       "      <th>...</th>\n",
       "      <td>...</td>\n",
       "      <td>...</td>\n",
       "      <td>...</td>\n",
       "      <td>...</td>\n",
       "      <td>...</td>\n",
       "    </tr>\n",
       "    <tr>\n",
       "      <th>760</th>\n",
       "      <td>2021-09-02</td>\n",
       "      <td>1.378535</td>\n",
       "      <td>-1.372021</td>\n",
       "      <td>0.872459</td>\n",
       "      <td>1.472518</td>\n",
       "    </tr>\n",
       "    <tr>\n",
       "      <th>761</th>\n",
       "      <td>2021-09-03</td>\n",
       "      <td>1.379711</td>\n",
       "      <td>-1.267264</td>\n",
       "      <td>0.918310</td>\n",
       "      <td>1.414022</td>\n",
       "    </tr>\n",
       "    <tr>\n",
       "      <th>762</th>\n",
       "      <td>2021-10-01</td>\n",
       "      <td>1.271690</td>\n",
       "      <td>-1.162507</td>\n",
       "      <td>0.984188</td>\n",
       "      <td>1.964716</td>\n",
       "    </tr>\n",
       "    <tr>\n",
       "      <th>763</th>\n",
       "      <td>2021-10-02</td>\n",
       "      <td>1.271690</td>\n",
       "      <td>-1.138517</td>\n",
       "      <td>1.000000</td>\n",
       "      <td>2.110120</td>\n",
       "    </tr>\n",
       "    <tr>\n",
       "      <th>764</th>\n",
       "      <td>2021-10-03</td>\n",
       "      <td>1.271690</td>\n",
       "      <td>-1.074543</td>\n",
       "      <td>1.000000</td>\n",
       "      <td>2.110120</td>\n",
       "    </tr>\n",
       "  </tbody>\n",
       "</table>\n",
       "<p>765 rows × 5 columns</p>\n",
       "</div>"
      ],
      "text/plain": [
       "           Date      Gold      Coal  Closing_price  Crude_Oil\n",
       "0    2017-01-03 -1.086089  1.359663       0.017401  -0.003241\n",
       "1    2017-01-04 -1.054820  1.373258       0.012031   0.074474\n",
       "2    2017-01-06 -1.027479  1.374057       0.013913   0.135477\n",
       "3    2017-01-07 -1.027479  1.374057       0.014577  -0.034160\n",
       "4    2017-01-08 -1.027479  1.374057       0.014577  -0.034160\n",
       "..          ...       ...       ...            ...        ...\n",
       "760  2021-09-02  1.378535 -1.372021       0.872459   1.472518\n",
       "761  2021-09-03  1.379711 -1.267264       0.918310   1.414022\n",
       "762  2021-10-01  1.271690 -1.162507       0.984188   1.964716\n",
       "763  2021-10-02  1.271690 -1.138517       1.000000   2.110120\n",
       "764  2021-10-03  1.271690 -1.074543       1.000000   2.110120\n",
       "\n",
       "[765 rows x 5 columns]"
      ]
     },
     "execution_count": 85,
     "metadata": {},
     "output_type": "execute_result"
    }
   ],
   "source": [
    "min_max_scaler = MinMaxScaler()\n",
    "df['Closing_price'] = min_max_scaler.fit_transform(df[['Closing_price']])\n",
    "standard_scaler = StandardScaler()\n",
    "df['Gold']=standard_scaler.fit_transform(df[['Gold']])\n",
    "df['Coal']=standard_scaler.fit_transform(df[['Coal']])\n",
    "df['Crude_Oil']=standard_scaler.fit_transform(df[['Crude_Oil']])\n",
    "df"
   ]
  },
  {
   "cell_type": "code",
   "execution_count": 86,
   "metadata": {},
   "outputs": [],
   "source": [
    "df['Sentiments']=sms"
   ]
  },
  {
   "cell_type": "code",
   "execution_count": 87,
   "metadata": {},
   "outputs": [],
   "source": [
    "df['Lag1']=df['Closing_price'].shift(1)\n",
    "df=df.dropna().reset_index(drop=True)"
   ]
  },
  {
   "cell_type": "code",
   "execution_count": 88,
   "metadata": {},
   "outputs": [],
   "source": [
    "def create_features(data, window,feature_cols):\n",
    "    X, y = [], []\n",
    "    # feature_cols = ['Gold', 'Coal','Crude_Oil','Lag1','pos','neg','neu','compound']  \n",
    "    target_col = ['Closing_price']            \n",
    "    max_index = len(data) - window -1\n",
    "    for i in range(max_index):\n",
    "        feature = data.loc[i:(i+window), feature_cols].values.astype('float32')\n",
    "        target = data.loc[i+window, target_col].values.astype('float32')\n",
    "        X.append(feature)\n",
    "        y.append(target)\n",
    "    X=np.array(X)\n",
    "    y=np.array(y)    \n",
    "    return X, y"
   ]
  },
  {
   "cell_type": "code",
   "execution_count": 89,
   "metadata": {},
   "outputs": [],
   "source": [
    "batchsize=32\n",
    "learningrate=0.001\n",
    "window_size = 35"
   ]
  },
  {
   "cell_type": "markdown",
   "metadata": {},
   "source": [
    "Model Architure"
   ]
  },
  {
   "cell_type": "code",
   "execution_count": 90,
   "metadata": {},
   "outputs": [],
   "source": [
    "\n",
    "class LSTM(nn.Module):\n",
    "    def __init__(self, num_classes, input_size, hidden_size, num_layers):\n",
    "        super().__init__()\n",
    "        self.num_classes = num_classes \n",
    "        self.num_layers = num_layers \n",
    "        self.input_size = input_size \n",
    "        self.hidden_size = hidden_size \n",
    "        self.lstm = nn.LSTM(input_size=input_size, hidden_size=hidden_size,\n",
    "                            num_layers=num_layers, batch_first=True, dropout=0.2)\n",
    "        self.fc = nn.Sequential(\n",
    "            nn.Linear(hidden_size, 128),\n",
    "            nn.ReLU(),\n",
    "            nn.Linear(128, num_classes)\n",
    "        )\n",
    "        \n",
    "    def forward(self, x):\n",
    "        h_0 = torch.zeros(self.num_layers, x.size(0), self.hidden_size)\n",
    "        c_0 = torch.zeros(self.num_layers, x.size(0), self.hidden_size)\n",
    "        output, (hn, _) = self.lstm(x, (h_0, c_0))\n",
    "        hn = hn.view(-1, self.hidden_size)\n",
    "        out = self.fc(hn)\n",
    "        return out\n"
   ]
  },
  {
   "cell_type": "code",
   "execution_count": 91,
   "metadata": {},
   "outputs": [],
   "source": [
    "def get_lstm(feature_col):\n",
    "    n_epochs = 500 \n",
    "    learning_rate = 0.001 \n",
    "\n",
    "    input_size = len(feature_col)\n",
    "    hidden_size = 2 \n",
    "    num_layers = 1 \n",
    "\n",
    "    num_classes = 1  \n",
    "\n",
    "    lstm = LSTM(num_classes, \n",
    "                input_size, \n",
    "                hidden_size, \n",
    "                num_layers)\n",
    "\n",
    "    print(lstm)            \n",
    "\n",
    "    return lstm            "
   ]
  },
  {
   "cell_type": "code",
   "execution_count": 106,
   "metadata": {},
   "outputs": [],
   "source": [
    "def training_loop(n_epochs, lstm,train_l,val_l):\n",
    "    loss_fn = torch.nn.MSELoss()    \n",
    "    optimiser = torch.optim.Adam(lstm.parameters(), lr=0.001)\n",
    "    train_loss_a=[]\n",
    "    val_loss_a=[]\n",
    "    for epoch in range(n_epochs):\n",
    "        train_loss = 0.0\n",
    "        val_loss = 0.0\n",
    "        lstm.train()\n",
    "        for inputs, targets in train_l:\n",
    "            optimiser.zero_grad()\n",
    "            outputs = lstm(inputs)\n",
    "            loss = loss_fn(outputs, targets)\n",
    "            loss.backward()\n",
    "            optimiser.step()\n",
    "            train_loss += loss.item() * inputs.size(0)\n",
    "\n",
    "        lstm.eval()\n",
    "        with torch.no_grad():\n",
    "            for inputs, targets in val_l:\n",
    "                outputs = lstm(inputs)\n",
    "                loss = loss_fn(outputs, targets)\n",
    "                val_loss += loss.item() * inputs.size(0)\n",
    "\n",
    "        train_loss /= len(train_l.dataset)\n",
    "        val_loss /= len(val_l.dataset)\n",
    "        train_loss_a.append(train_loss)\n",
    "        val_loss_a.append(val_loss)\n",
    "\n",
    "        if epoch % 100 == 0:\n",
    "            print(\"Epoch: %d, train loss: %1.5f, val loss: %1.5f\" % (epoch, train_loss, val_loss))\n",
    "\n",
    "    return train_loss_a,val_loss_a        \n"
   ]
  },
  {
   "cell_type": "code",
   "execution_count": 93,
   "metadata": {},
   "outputs": [],
   "source": [
    "def plot(lstm,feature_col):\n",
    "    df_X_ss, df_y_mm = create_features(df,window_size,feature_col)\n",
    "\n",
    "    df_X_ss = torch.Tensor(df_X_ss)\n",
    "    df_y_mm = torch.Tensor(df_y_mm)\n",
    "\n",
    "\n",
    "    df_X_ss = torch.reshape(df_X_ss, (df_X_ss.shape[0], window_size+1, df_X_ss.shape[2]))\n",
    "\n",
    "    train_predict = lstm(df_X_ss)\n",
    "    data_predict = train_predict.data.numpy()\n",
    "    dataY_plot = df_y_mm.data.numpy()\n",
    "\n",
    "    data_predict = min_max_scaler.inverse_transform(data_predict) \n",
    "    dataY_plot = min_max_scaler.inverse_transform(dataY_plot)\n",
    "    true, preds = [], []\n",
    "    for i in range(len(dataY_plot)):\n",
    "        true.append(dataY_plot[i][0])\n",
    "    for i in range(len(data_predict)):\n",
    "        preds.append(data_predict[i][0])\n",
    "\n",
    "    rmse = np.sqrt(mean_squared_error(true, preds))\n",
    "    print(\"Root Mean Squared Error (RMSE):\", rmse)    \n",
    "    plt.figure(figsize=(10,6)) \n",
    "    plt.axvline(x=len(df)*0.90  , c='r', linestyle='--') \n",
    "\n",
    "    plt.plot(true, label='Actual Data') \n",
    "    plt.plot(preds, label='Predicted Data') \n",
    "    plt.title('Stock Prediction')\n",
    "    plt.legend()\n",
    "\n",
    "    plt.show() "
   ]
  },
  {
   "cell_type": "markdown",
   "metadata": {},
   "source": [
    "Data Pre-Processing"
   ]
  },
  {
   "cell_type": "code",
   "execution_count": 94,
   "metadata": {},
   "outputs": [],
   "source": [
    "def making_dataloader(x, y):\n",
    "    X_tensor = torch.tensor(x)\n",
    "    Y_tensor = torch.tensor(y)\n",
    "    dataset = TensorDataset(X_tensor, Y_tensor)\n",
    "    dataloader = DataLoader(dataset, batch_size=batchsize, shuffle=False)\n",
    "    return dataloader"
   ]
  },
  {
   "cell_type": "code",
   "execution_count": 95,
   "metadata": {},
   "outputs": [
    {
     "name": "stdout",
     "output_type": "stream",
     "text": [
      "Training Size :- 687\n",
      "Validation Size :- 38\n",
      "Testing Size :- 39\n"
     ]
    }
   ],
   "source": [
    "\n",
    "train_size = int(len(df) * 0.90)\n",
    "val_size = int((len(df) - train_size) * 0.50)\n",
    "train = df[:train_size].reset_index(drop=True)\n",
    "val= df[train_size:train_size + val_size].reset_index(drop=True)\n",
    "test= df[train_size + val_size:].reset_index(drop=True)\n",
    "\n",
    "print(f\"Training Size :- {len(train)}\")\n",
    "print(f\"Validation Size :- {len(val)}\")\n",
    "print(f\"Testing Size :- {len(test)}\")"
   ]
  },
  {
   "cell_type": "code",
   "execution_count": 96,
   "metadata": {},
   "outputs": [],
   "source": [
    "def Data(feature_col):\n",
    "    X_train,y_train=create_features(train,window_size,feature_col)\n",
    "    X_val,y_val=create_features(val,window_size,feature_col)\n",
    "    X_test,y_test=create_features(test,window_size,feature_col)\n",
    "\n",
    "    print(f\"Shape of X Train:- {X_train.shape}\")\n",
    "    print(f\"Shape of Y Train:- {y_train.shape}\")\n",
    "\n",
    "    train_l=making_dataloader(X_train,y_train)\n",
    "    val_l=making_dataloader(X_val,y_val)\n",
    "    test_l=making_dataloader(X_test,y_test)\n",
    "\n",
    "    return train_l,val_l,test_l\n"
   ]
  },
  {
   "cell_type": "code",
   "execution_count": 97,
   "metadata": {},
   "outputs": [
    {
     "data": {
      "text/plain": [
       "Index(['Date', 'Gold', 'Coal', 'Closing_price', 'Crude_Oil', 'Sentiments',\n",
       "       'Lag1'],\n",
       "      dtype='object')"
      ]
     },
     "execution_count": 97,
     "metadata": {},
     "output_type": "execute_result"
    }
   ],
   "source": [
    "df.columns"
   ]
  },
  {
   "cell_type": "markdown",
   "metadata": {},
   "source": [
    "1"
   ]
  },
  {
   "cell_type": "code",
   "execution_count": 98,
   "metadata": {},
   "outputs": [],
   "source": [
    "feature_cols = ['Gold', 'Coal','Crude_Oil','Lag1','Sentiments']  \n"
   ]
  },
  {
   "cell_type": "code",
   "execution_count": 99,
   "metadata": {},
   "outputs": [
    {
     "name": "stdout",
     "output_type": "stream",
     "text": [
      "Shape of X Train:- (651, 36, 5)\n",
      "Shape of Y Train:- (651, 1)\n",
      "LSTM(\n",
      "  (lstm): LSTM(5, 2, batch_first=True, dropout=0.2)\n",
      "  (fc): Sequential(\n",
      "    (0): Linear(in_features=2, out_features=128, bias=True)\n",
      "    (1): ReLU()\n",
      "    (2): Linear(in_features=128, out_features=1, bias=True)\n",
      "  )\n",
      ")\n",
      "Epoch: 0, train loss: 0.01625, val loss: 0.02451\n"
     ]
    },
    {
     "name": "stdout",
     "output_type": "stream",
     "text": [
      "Epoch: 100, train loss: 0.00320, val loss: 0.01231\n",
      "Epoch: 200, train loss: 0.00239, val loss: 0.00875\n",
      "Epoch: 300, train loss: 0.00170, val loss: 0.00719\n",
      "Epoch: 400, train loss: 0.00268, val loss: 0.00580\n",
      "Epoch: 500, train loss: 0.00202, val loss: 0.00423\n",
      "Epoch: 600, train loss: 0.00087, val loss: 0.00364\n",
      "Epoch: 700, train loss: 0.00107, val loss: 0.00262\n",
      "Epoch: 800, train loss: 0.00032, val loss: 0.00350\n",
      "Epoch: 900, train loss: 0.00029, val loss: 0.00289\n"
     ]
    }
   ],
   "source": [
    "train_l,val_l,test_l=Data(feature_cols)\n",
    "lstm=get_lstm(feature_cols)\n",
    "train_loss,val_loss=training_loop(1000,lstm,train_l,val_l)\n"
   ]
  },
  {
   "cell_type": "code",
   "execution_count": 100,
   "metadata": {},
   "outputs": [
    {
     "name": "stdout",
     "output_type": "stream",
     "text": [
      "Root Mean Squared Error (RMSE): 65.24101\n"
     ]
    },
    {
     "data": {
      "image/png": "[encoded data removed]",
      "text/plain": [
       "<Figure size 1000x600 with 1 Axes>"
      ]
     },
     "metadata": {},
     "output_type": "display_data"
    }
   ],
   "source": [
    "plot(lstm,feature_cols)"
   ]
  },
  {
   "cell_type": "code",
   "execution_count": 109,
   "metadata": {},
   "outputs": [
    {
     "data": {
      "text/plain": [
       "<matplotlib.legend.Legend at 0x1e73422be60>"
      ]
     },
     "execution_count": 109,
     "metadata": {},
     "output_type": "execute_result"
    },
    {
     "data": {
      "image/png": "[encoded data removed]",
      "text/plain": [
       "<Figure size 640x480 with 1 Axes>"
      ]
     },
     "metadata": {},
     "output_type": "display_data"
    }
   ],
   "source": [
    "plt.plot(train_loss, label='Training Loss') \n",
    "plt.plot(val_loss, label='Validation Loss') \n",
    "plt.legend()"
   ]
  }
 ],
 "metadata": {
  "kernelspec": {
   "display_name": "Python 3",
   "language": "python",
   "name": "python3"
  },
  "language_info": {
   "codemirror_mode": {
    "name": "ipython",
    "version": 3
   },
   "file_extension": ".py",
   "mimetype": "text/x-python",
   "name": "python",
   "nbconvert_exporter": "python",
   "pygments_lexer": "ipython3",
   "version": "3.12.2"
  }
 },
 "nbformat": 4,
 "nbformat_minor": 2
}
